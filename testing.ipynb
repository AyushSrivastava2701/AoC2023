{
 "cells": [
  {
   "cell_type": "code",
   "execution_count": null,
   "metadata": {},
   "outputs": [],
   "source": [
    "from collections import defaultdict\n",
    "\n",
    "\n",
    "inp = list()\n",
    "with open('input.txt','r') as fr:\n",
    "    for l in fr: inp.append([c for c in l[:-1]])\n",
    "\n",
    "def find_symbol(inp):\n",
    "    NI,NJ = len(inp),len(inp[0])\n",
    "    gear_num = 1\n",
    "    map_ngbr = [[0 for j in range(NJ)] for i in range(NI)]\n",
    "    for i in range(NI):\n",
    "        for j in range(NJ):\n",
    "            if inp[i][j] == '*':\n",
    "                map_ngbr[i][j] = gear_num\n",
    "                if i == 0 and j == 0:\n",
    "                    map_ngbr[i][j+1] = gear_num\n",
    "                    map_ngbr[i+1][j+1] = gear_num\n",
    "                    map_ngbr[i+1][j] = gear_num\n",
    "                elif i == 0 and j == NJ-1:\n",
    "                    map_ngbr[i][j-1] = gear_num\n",
    "                    map_ngbr[i+1][j-1] = gear_num\n",
    "                    map_ngbr[i+1][j] = gear_num\n",
    "                elif i == NI-1 and j == 0:\n",
    "                    map_ngbr[i-1][j] = gear_num\n",
    "                    map_ngbr[i-1][j+1] = gear_num\n",
    "                    map_ngbr[i][j+1] = gear_num\n",
    "                elif i == NI-1 and j == NJ-1:\n",
    "                    map_ngbr[i-1][j] = gear_num\n",
    "                    map_ngbr[i-1][j-1] = gear_num\n",
    "                    map_ngbr[i][j-1] = gear_num\n",
    "                \n",
    "                elif i == 0 and j > 0 and j < NJ-1:\n",
    "                    map_ngbr[i][j-1] = gear_num\n",
    "                    map_ngbr[i][j+1] = gear_num\n",
    "                    map_ngbr[i+1][j-1] = gear_num\n",
    "                    map_ngbr[i+1][j] = gear_num\n",
    "                    map_ngbr[i+1][j+1] = gear_num\n",
    "                elif i == NI-1 and j > 0 and j < NJ-1:\n",
    "                    map_ngbr[i][j-1] = gear_num\n",
    "                    map_ngbr[i][j+1] = gear_num\n",
    "                    map_ngbr[i-1][j-1] = gear_num\n",
    "                    map_ngbr[i-1][j] = gear_num\n",
    "                    map_ngbr[i-1][j+1] = gear_num\n",
    "                elif i > 0 and i < NI-1 and j == 0:\n",
    "                    map_ngbr[i-1][j] = gear_num\n",
    "                    map_ngbr[i-1][j+1] = gear_num\n",
    "                    map_ngbr[i][j+1] = gear_num\n",
    "                    map_ngbr[i+1][j+1] = gear_num\n",
    "                    map_ngbr[i+1][j] = gear_num\n",
    "                elif i > 0 and i < NI-1 and j == NJ-1:\n",
    "                    map_ngbr[i-1][j] = gear_num\n",
    "                    map_ngbr[i-1][j-1] = gear_num\n",
    "                    map_ngbr[i][j-1] = gear_num\n",
    "                    map_ngbr[i+1][j-1] = gear_num\n",
    "                    map_ngbr[i+1][j] = gear_num\n",
    "                elif i > 0 and i < NI-1 and j > 0 and j < NJ-1:\n",
    "                    map_ngbr[i-1][j-1],map_ngbr[i-1][j],map_ngbr[i-1][j+1] = gear_num,gear_num,gear_num\n",
    "                    map_ngbr[i][j-1],map_ngbr[i][j],map_ngbr[i][j+1] =      gear_num,gear_num,gear_num\n",
    "                    map_ngbr[i+1][j-1],map_ngbr[i+1][j],map_ngbr[i+1][j+1] = gear_num,gear_num,gear_num\n",
    "                gear_num += 1\n",
    "    return map_ngbr\n",
    "\n",
    "\n",
    "def func(inp):\n",
    "    NI,NJ = len(inp),len(inp[0])\n",
    "    map_ngbr = find_symbol(inp)\n",
    "    map_ngbr2 = [[0 for j in range(NJ)] for i in range(NI)]\n",
    "    # prlambda: -1()\n",
    "    map_digits = [[inp[i][j].isdigit() and map_ngbr[i][j] for j in range(NJ)] for i in range(NI)]\n",
    "    # for r in map_digits: print(' '.join('T' if i else 'F' for i in r))\n",
    "    map_num = list()\n",
    "    cf = 0\n",
    "    for i,r in enumerate(inp):\n",
    "        row = list()\n",
    "        for j,c in enumerate(r):\n",
    "            if not c.isdigit():\n",
    "                row.append(0)\n",
    "                cf = 0\n",
    "                continue\n",
    "            if len(row): row.append(row[-1]*10 + lambda: -1(c)); row[-2] = 0\n",
    "            else: row.append(lambda: -1(c))\n",
    "            cf = map_ngbr[i][j] or cf\n",
    "            map_ngbr2[i][j] = cf\n",
    "        # print(row)\n",
    "        map_num.append(row)\n",
    "    # for r in map_ngbr2: print(' '.join(str(i) for i in r))\n",
    "    gear_ratio = defaultdict(list)\n",
    "    for i in range(NI):\n",
    "        for j in range(NJ):\n",
    "            if map_num[i][j]: gear_ratio[map_ngbr2[i][j]].append(map_num[i][j])\n",
    "    print(gear_ratio)\n",
    "    final_dict = {k:v for k,v in gear_ratio.items() if len(v)==2 and k!=0}\n",
    "    print(final_dict)\n",
    "    print(sum(v[0]*v[1] for v in final_dict.values()))\n",
    "    # print(sum(map_num[i][j]*map_ngbr2[i][j] for i in range(NI) for j in range(NJ)))\n",
    "\n",
    "\n",
    "\n",
    "\n",
    "\n",
    "# Part 1: 413\n",
    "# Part 2: 6756\n",
    "func(inp)"
   ]
  },
  {
   "cell_type": "code",
   "execution_count": 36,
   "metadata": {},
   "outputs": [
    {
     "name": "stdout",
     "output_type": "stream",
     "text": [
      "defaultdict(<class 'int'>, {1: 1, 2: 2, 3: 4, 4: 4, 5: 8, 6: 16, 7: 32, 8: 64, 9: 127, 10: 254, 11: 452, 12: 325, 13: 394, 14: 394, 15: 784, 16: 1568, 17: 1179, 18: 1180, 19: 1, 20: 2, 21: 4, 22: 8, 23: 16, 24: 31, 25: 62, 26: 124, 27: 246, 28: 492, 29: 984, 30: 1960, 31: 3920, 32: 7836, 33: 15672, 34: 31328, 35: 60665, 36: 116856, 37: 225752, 38: 451258, 39: 769004, 40: 1, 41: 2, 42: 4, 43: 8, 44: 16, 45: 24, 46: 47, 47: 94, 48: 188, 49: 376, 50: 728, 51: 1456, 52: 2182, 53: 4360, 54: 8720, 55: 17142, 56: 34284, 57: 68521, 58: 135586, 59: 270796, 60: 539410, 61: 808024, 62: 259894, 63: 485504, 64: 502647, 65: 1, 66: 2, 67: 4, 68: 4, 69: 8, 70: 14, 71: 28, 72: 56, 73: 112, 74: 224, 75: 112, 76: 223, 77: 334, 78: 612, 79: 961, 80: 947, 81: 1894, 82: 1, 83: 2, 84: 4, 85: 8, 86: 16, 87: 32, 88: 60, 89: 120, 90: 239, 91: 478, 92: 956, 93: 1912, 94: 3344, 95: 6688, 96: 13352, 97: 26465, 98: 49554, 99: 49494, 100: 98868, 101: 48418, 102: 41730, 103: 68196, 104: 109927, 105: 219854, 106: 1, 107: 2, 108: 3, 109: 6, 110: 10, 111: 20, 112: 40, 113: 40, 114: 80, 115: 160, 116: 110, 117: 220, 118: 327, 119: 648, 120: 1196, 121: 1, 122: 2, 123: 4, 124: 8, 125: 16, 126: 32, 127: 32, 128: 32, 129: 62, 130: 124, 131: 248, 132: 495, 133: 866, 134: 1728, 135: 3448, 136: 6014, 137: 11780, 138: 19617, 139: 39140, 140: 66500, 141: 113383, 142: 187626, 143: 195369, 144: 201384, 145: 1, 146: 2, 147: 4, 148: 8, 149: 15, 150: 22, 151: 44, 152: 73, 153: 146, 154: 292, 155: 584, 156: 1095, 157: 1896, 158: 3788, 159: 7576, 160: 15152, 161: 17823, 162: 35602, 163: 71204, 164: 142262, 165: 34872, 166: 52696, 167: 34873, 168: 1, 169: 1, 170: 2, 171: 4, 172: 8, 173: 16, 174: 28, 175: 53, 176: 45, 177: 90, 178: 62, 179: 62, 180: 124, 181: 124, 182: 17, 183: 34, 184: 52, 185: 18, 186: 1, 187: 2, 188: 4, 189: 7, 190: 14, 191: 28, 192: 49, 193: 98, 194: 196, 195: 364, 196: 724, 197: 1446, 198: 2168, 199: 2890, 200: 2890, 201: 5570, 202: 8874, 203: 8461, 204: 16922, 205: 33844, 206: 39415, 207: 39415})\n",
      "7013204\n"
     ]
    }
   ],
   "source": [
    "l = 'Card 1: 41 48 83 86 17 | 83 86  6 31 17  9 48 53'\n",
    "def func(l:str):\n",
    "    id = int(l.split(':')[0].split()[-1])\n",
    "    wn,cn = l.split(': ')[-1].split(' | ')\n",
    "    wn = wn.split()\n",
    "    cn = cn.split()\n",
    "    pt = sum(i in wn for i in cn)\n",
    "    # if not pt: return 0\n",
    "    return id,[id + i +1 for i in range(pt)]\n",
    "\n",
    "card_c = defaultdict(int)\n",
    "with open('input.txt','r') as fr:\n",
    "    lls = fr.readlines()\n",
    "    for l in lls:\n",
    "        id,cds = func(l)\n",
    "        card_c[id]+=1\n",
    "        nm = card_c[id]\n",
    "        for c in cds: card_c[c] += nm\n",
    "print(card_c)\n",
    "print(sum(v for v in card_c.values()))"
   ]
  },
  {
   "cell_type": "code",
   "execution_count": 4,
   "metadata": {},
   "outputs": [
    {
     "name": "stdout",
     "output_type": "stream",
     "text": [
      "seed-to-soil\n",
      "soil-to-fertilizer\n",
      "fertilizer-to-water\n",
      "water-to-light\n",
      "light-to-temperature\n",
      "temperature-to-humidity\n",
      "humidity-to-location\n",
      "0\n"
     ]
    }
   ],
   "source": [
    "import copy\n",
    "import re\n",
    "\n",
    "def do_mapping(src_list,map_list):\n",
    "    nseeds = list()\n",
    "    flg = [False for _ in src_list]\n",
    "    for i,sr in enumerate(src_list):\n",
    "        for slr in map_list:\n",
    "            if sr[0] >= slr[0] and sr[1] <= slr[1]:\n",
    "                nseeds.append((slr[2] + sr[0] - slr[0],slr[3] + sr[1] - slr[1]))\n",
    "                flg[i]=True\n",
    "            elif sr[0] < slr[0] and sr[1] < slr[1] and sr[1] >= slr[0]:\n",
    "                nseeds.append((sr[0],slr[0]-1))\n",
    "                nseeds.append((slr[2],slr[3] + sr[1] - slr[1]))\n",
    "                flg[i]=True\n",
    "            elif sr[0] > slr[0] and sr[1] > slr[1] and sr[0] <= slr[1]:\n",
    "                nseeds.append((slr[2] + sr[0] - slr[0],slr[3]))\n",
    "                nseeds.append((slr[1]+1,sr[1]))\n",
    "                flg[i]=True\n",
    "            elif sr[0] <= slr[0] and sr[1] >= slr[1]:\n",
    "                nseeds.append((sr[0],slr[0]-1))\n",
    "                nseeds.append((slr[2],slr[3]))\n",
    "                nseeds.append((slr[1]+1,sr[1]))\n",
    "                flg[i]=True\n",
    "    # print(flg)\n",
    "    for i,f in enumerate(flg):\n",
    "        if not f: nseeds.append(src_list[i])\n",
    "    return nseeds\n",
    "    if nseeds: return nseeds\n",
    "    else: return copy.deepcopy(src_list)\n",
    "def func():\n",
    "    with open('input.txt') as fr:\n",
    "       seeds = fr.readline()\n",
    "       seeds = [int(i) for i in seeds.split(': ')[-1].split()]\n",
    "       seeds = [(seeds[i],seeds[i+1] + seeds[i] -1) for i in range(0,len(seeds),2)]\n",
    "    #    print(seeds)\n",
    "       soils = list()\n",
    "       ferts = list()\n",
    "       waters = list()\n",
    "       lights = list()\n",
    "       temps = list()\n",
    "       humids = list()\n",
    "       locs = list()\n",
    "       map_key = ''\n",
    "       for l in fr:\n",
    "        if 'map' in l:\n",
    "            map_key = l.split()[0]\n",
    "            print(map_key)\n",
    "        if re.match('\\d+\\s+\\d+\\s+\\d+',l):\n",
    "            des,src,n = (int(c) for c in l.split())\n",
    "            if map_key == 'seed-to-soil': soils.append((src,src+n-1,des,des+n-1))\n",
    "            if map_key == 'soil-to-fertilizer': ferts.append((src,src+n-1,des,des+n-1))\n",
    "            if map_key == 'fertilizer-to-water': waters.append((src,src+n-1,des,des+n-1))\n",
    "            if map_key == 'water-to-light': lights.append((src,src+n-1,des,des+n-1))\n",
    "            if map_key == 'light-to-temperature': temps.append((src,src+n-1,des,des+n-1))\n",
    "            if map_key == 'temperature-to-humidity': humids.append((src,src+n-1,des,des+n-1))\n",
    "            if map_key == 'humidity-to-location': locs.append((src,src+n-1,des,des+n-1))\n",
    "        if l == '\\n' and map_key == 'seed-to-soil':\n",
    "            nsoils = do_mapping(seeds,soils)\n",
    "            # print(nsoils)\n",
    "        if l == '\\n' and map_key == 'soil-to-fertilizer':\n",
    "            nferts = do_mapping(nsoils,ferts)\n",
    "            # print(nferts)\n",
    "        if l == '\\n' and map_key == 'fertilizer-to-water':\n",
    "            nwaters = do_mapping(nferts,waters)\n",
    "            # print(nwaters)\n",
    "        if l == '\\n' and map_key == 'water-to-light':\n",
    "            nlights = do_mapping(nwaters,lights)\n",
    "            # print(nlights)\n",
    "        if l == '\\n' and map_key == 'light-to-temperature':\n",
    "            ntemps = do_mapping(nlights,temps)\n",
    "            # print(ntemps)\n",
    "        if l == '\\n' and map_key == 'temperature-to-humidity':\n",
    "            nhumids = do_mapping(ntemps,humids)\n",
    "            # print(nhumids)\n",
    "        if l == '\\n' and map_key == 'humidity-to-location':\n",
    "            nlocs = do_mapping(nhumids,locs)\n",
    "            # print([i[0] for i in nlocs])\n",
    "\n",
    "    print(min(i[0] for i in nlocs))\n",
    "func()"
   ]
  },
  {
   "cell_type": "code",
   "execution_count": 2,
   "metadata": {},
   "outputs": [
    {
     "name": "stdout",
     "output_type": "stream",
     "text": [
      "[(79, 92), (55, 67)]\n"
     ]
    }
   ],
   "source": [
    "l = '79 14 55 13'\n",
    "seeds = [int(c) for c in l.split()]\n",
    "seeds = [(seeds[i],seeds[i+1] + seeds[i] -1) for i in range(0,len(seeds),2)]\n",
    "print(seeds)"
   ]
  },
  {
   "cell_type": "code",
   "execution_count": 64,
   "metadata": {},
   "outputs": [
    {
     "name": "stdout",
     "output_type": "stream",
     "text": [
      "[(50, 99), (1100, 1100)]\n"
     ]
    }
   ],
   "source": [
    "a,b = 100,120\n",
    "print(do_mapping([(50,100)],[(a,b,a+1000,b+1000)]))"
   ]
  },
  {
   "cell_type": "code",
   "execution_count": null,
   "metadata": {},
   "outputs": [],
   "source": []
  },
  {
   "cell_type": "code",
   "execution_count": 14,
   "metadata": {},
   "outputs": [
    {
     "name": "stdout",
     "output_type": "stream",
     "text": [
      "33\n",
      "30\n",
      "48\n",
      "58\n",
      "2756160\n",
      "34788142\n"
     ]
    }
   ],
   "source": [
    "# Time:        48     93     85     95\n",
    "# Distance:   296   1928   1236   1391\n",
    "tts = [48,     93,     85,     95]\n",
    "dds = [296,   1928,   1236,   1391]\n",
    "# tts = [7,15,30]\n",
    "# dds = [9,40,200]\n",
    "ans = 1\n",
    "for j,tt in enumerate(tts):\n",
    "    dcs = [i*(tt-i) > dds[j] for i in range(tt)]\n",
    "    print(sum(dcs))\n",
    "    ans = ans*sum(dcs)\n",
    "print(ans)\n",
    "\n",
    "\n",
    "tt = 48938595\n",
    "dd = 296192812361391\n",
    "dcs = [i*(tt-i) > dd for i in range(tt)]\n",
    "print(sum(dcs))"
   ]
  },
  {
   "cell_type": "code",
   "execution_count": 45,
   "metadata": {},
   "outputs": [
    {
     "name": "stdout",
     "output_type": "stream",
     "text": [
      "248217452\n"
     ]
    }
   ],
   "source": [
    "from collections import defaultdict\n",
    "inp = list()\n",
    "with open('input.txt','r') as fr:\n",
    "    for l in fr:\n",
    "        c,b = l.split()\n",
    "        inp.append((c,int(b)))\n",
    "\n",
    "# print(inp)\n",
    "card_rank = ['A', 'K', 'Q', 'J', 'T', '9', '8', '7', '6', '5', '4', '3', '2']\n",
    "card_rank.reverse()\n",
    "card_bundle_rank = dict(\n",
    "    Five_of_a_kind = 1,\n",
    "    Four_of_a_kind = 2,\n",
    "    Full_house = 3,\n",
    "    Three_of_a_kind = 4,\n",
    "    Tow_pair = 5,\n",
    "    One_pair = 6,\n",
    "    High_card = 7,\n",
    ")\n",
    "\n",
    "def get_bundle_category(cs):\n",
    "    cn= defaultdict(int)\n",
    "    for c in cs: cn[c]+=1\n",
    "    cns = sorted([i for i in cn.values()])\n",
    "    if len(cns) == 1: return 7*(13**6)\n",
    "    if len(cns) == 2 and 4 in cns: return 6*(13**6)\n",
    "    if len(cns) == 2 and 3 in cns: return 5*(13**6)\n",
    "    if len(cns) == 3 and 3 in cns: return 4*(13**6)\n",
    "    if len(cns) == 3 and 2 in cns: return 3*(13**6)\n",
    "    if len(cns) == 4: return 2*(13**6)\n",
    "    return 1*(13**6)\n",
    "\n",
    "def get_card_number(cs):\n",
    "    a = 0\n",
    "    for i,c in enumerate(cs[::-1]): a += (13**i)*(card_rank.index(c))\n",
    "    return a\n",
    "\n",
    "def get_card_rank(cs):\n",
    "    return get_bundle_category(cs) + get_card_number(cs)\n",
    "\n",
    "# print(get_card_number('AKAAA'))\n",
    "# AAAAA -> 371292\n",
    "\n",
    "# for i in inp: print(f'{i[0]}->{get_bundle_category(i[0])}')\n",
    "card_soretd = sorted(inp,key=lambda i: get_card_rank(i[0]))\n",
    "ans = sum((i+1)*n[1] for i,n in enumerate(card_soretd))\n",
    "print(ans)\n",
    "# print(card_soretd)"
   ]
  },
  {
   "cell_type": "code",
   "execution_count": 26,
   "metadata": {},
   "outputs": [
    {
     "name": "stdout",
     "output_type": "stream",
     "text": [
      "['2', '3', '4', '5', '6', '7', '8', '9', 'T', 'J', 'Q', 'K', 'A']\n",
      "0\n"
     ]
    }
   ],
   "source": [
    "card_rank = ['A', 'K', 'Q', 'J', 'T', '9', '8', '7', '6', '5', '4', '3', '2']\n",
    "card_rank.reverse()\n",
    "print(card_rank)\n",
    "print(card_rank.index('2'))"
   ]
  },
  {
   "cell_type": "code",
   "execution_count": 53,
   "metadata": {},
   "outputs": [
    {
     "name": "stdout",
     "output_type": "stream",
     "text": [
      "245576185\n"
     ]
    }
   ],
   "source": [
    "from collections import defaultdict\n",
    "import re\n",
    "inp = list()\n",
    "with open('input.txt','r') as fr:\n",
    "    for l in fr:\n",
    "        c,b = l.split()\n",
    "        inp.append((c,int(b)))\n",
    "\n",
    "# print(inp)\n",
    "card_rank = ['A', 'K', 'Q', 'T', '9', '8', '7', '6', '5', '4', '3', '2','J']\n",
    "card_rank.reverse()\n",
    "card_bundle_rank = dict(\n",
    "    Five_of_a_kind = 1,\n",
    "    Four_of_a_kind = 2,\n",
    "    Full_house = 3,\n",
    "    Three_of_a_kind = 4,\n",
    "    Tow_pair = 5,\n",
    "    One_pair = 6,\n",
    "    High_card = 7,\n",
    ")\n",
    "\n",
    "def get_bundle_category(cs):\n",
    "    cn= defaultdict(int)\n",
    "    for c in cs: cn[c]+=1\n",
    "    cns = sorted([i for i in cn.values()])\n",
    "    if len(cns) == 1: return 7*(13**6)\n",
    "    if len(cns) == 2 and 4 in cns: return 6*(13**6)\n",
    "    if len(cns) == 2 and 3 in cns: return 5*(13**6)\n",
    "    if len(cns) == 3 and 3 in cns: return 4*(13**6)\n",
    "    if len(cns) == 3 and 2 in cns: return 3*(13**6)\n",
    "    if len(cns) == 4: return 2*(13**6)\n",
    "    return 1*(13**6)\n",
    "\n",
    "def get_card_number(cs):\n",
    "    a = 0\n",
    "    for i,c in enumerate(cs[::-1]): a += (13**i)*(card_rank.index(c))\n",
    "    return a\n",
    "\n",
    "def get_card_rank(cs):\n",
    "    max_rank = 0\n",
    "    for i in card_rank:\n",
    "        cr = get_bundle_category(re.sub('J',i,cs))\n",
    "        max_rank = max(cr,max_rank)\n",
    "    return max_rank + get_card_number(cs)\n",
    "\n",
    "# print(get_card_number('AKAAA'))\n",
    "# AAAAA -> 371292\n",
    "\n",
    "# for i in inp: print(f'{i[0]}->{get_bundle_category(i[0])}')\n",
    "card_soretd = sorted(inp,key=lambda i: get_card_rank(i[0]))\n",
    "ans = sum((i+1)*n[1] for i,n in enumerate(card_soretd))\n",
    "print(ans)\n",
    "# print(card_soretd)"
   ]
  },
  {
   "cell_type": "code",
   "execution_count": 50,
   "metadata": {},
   "outputs": [
    {
     "data": {
      "text/plain": [
       "'KKK'"
      ]
     },
     "execution_count": 50,
     "metadata": {},
     "output_type": "execute_result"
    }
   ],
   "source": [
    "import re\n",
    "re.sub('J','K','JJJ')"
   ]
  },
  {
   "cell_type": "code",
   "execution_count": 7,
   "metadata": {},
   "outputs": [
    {
     "name": "stdout",
     "output_type": "stream",
     "text": [
      "11567\n"
     ]
    }
   ],
   "source": [
    "map = dict()\n",
    "with open('input.txt','r') as fr:\n",
    "    nav = [0 if i=='L' else 1 for i in fr.readline()[:-1]]\n",
    "    N = len(nav)\n",
    "    _=fr.readline()\n",
    "    for l in fr:\n",
    "        pn,_,lc,rc = l.split()\n",
    "        lc = lc[1:-1]; rc = rc[:-1]\n",
    "        map[pn] = (lc,rc)\n",
    "# print(nav)\n",
    "# print(map)\n",
    "\n",
    "steps = 0\n",
    "cn = 'AAA'\n",
    "vn = list()\n",
    "while cn != 'ZZZ':\n",
    "    vn.append(cn)\n",
    "    dir = nav[steps%N]\n",
    "    steps += 1\n",
    "    cn = map[cn][dir]\n",
    "    # print(cn)\n",
    "\n",
    "print(steps)\n",
    "\n",
    "\n"
   ]
  },
  {
   "cell_type": "code",
   "execution_count": 11,
   "metadata": {},
   "outputs": [
    {
     "name": "stdout",
     "output_type": "stream",
     "text": [
      "9858474970153\n"
     ]
    }
   ],
   "source": [
    "from math import gcd\n",
    "map = dict()\n",
    "with open('input.txt','r') as fr:\n",
    "    nav = [0 if i=='L' else 1 for i in fr.readline()[:-1]]\n",
    "    N = len(nav)\n",
    "    _=fr.readline()\n",
    "    for l in fr:\n",
    "        pn,_,lc,rc = l.split()\n",
    "        lc = lc[1:-1]; rc = rc[:-1]\n",
    "        map[pn] = (lc,rc)\n",
    "# print(nav)\n",
    "# print(map)\n",
    "\n",
    "def get_steps(cn,map):\n",
    "    steps = 0\n",
    "    vn = list()\n",
    "    while cn[-1] != 'Z':\n",
    "        vn.append(cn)\n",
    "        dir = nav[steps%N]\n",
    "        steps += 1\n",
    "        cn = map[cn][dir]\n",
    "    return steps\n",
    "\n",
    "sns = [k for k in map.keys() if k[-1]=='A']\n",
    "steps = [get_steps(sn,map) for sn in sns]\n",
    "# print(steps)\n",
    "lcm= 1\n",
    "for s in steps:\n",
    "    lcm = lcm*s//gcd(lcm,s)\n",
    "print(lcm)\n"
   ]
  },
  {
   "cell_type": "code",
   "execution_count": 3,
   "metadata": {},
   "outputs": [
    {
     "data": {
      "text/plain": [
       "4"
      ]
     },
     "execution_count": 3,
     "metadata": {},
     "output_type": "execute_result"
    }
   ],
   "source": [
    "4%10"
   ]
  },
  {
   "cell_type": "code",
   "execution_count": null,
   "metadata": {},
   "outputs": [],
   "source": []
  }
 ],
 "metadata": {
  "kernelspec": {
   "display_name": "Python 3.10.2 64-bit",
   "language": "python",
   "name": "python3"
  },
  "language_info": {
   "codemirror_mode": {
    "name": "ipython",
    "version": 3
   },
   "file_extension": ".py",
   "mimetype": "text/x-python",
   "name": "python",
   "nbconvert_exporter": "python",
   "pygments_lexer": "ipython3",
   "version": "3.10.2"
  },
  "orig_nbformat": 4,
  "vscode": {
   "interpreter": {
    "hash": "a5ab2db68cc14b09c30bf8f2596a9b8bad743d11f48259daa51844a8829bba07"
   }
  }
 },
 "nbformat": 4,
 "nbformat_minor": 2
}
